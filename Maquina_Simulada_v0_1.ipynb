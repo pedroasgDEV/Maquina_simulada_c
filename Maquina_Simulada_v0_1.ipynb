{
  "nbformat": 4,
  "nbformat_minor": 0,
  "metadata": {
    "colab": {
      "name": "Maquina_Simulada_v0.1.ipynb",
      "provenance": [],
      "authorship_tag": "ABX9TyNsNWuL3rJafzgj3Up113Hj",
      "include_colab_link": true
    },
    "kernelspec": {
      "name": "python3",
      "display_name": "Python 3"
    },
    "language_info": {
      "name": "python"
    }
  },
  "cells": [
    {
      "cell_type": "markdown",
      "metadata": {
        "id": "view-in-github",
        "colab_type": "text"
      },
      "source": [
        "<a href=\"https://colab.research.google.com/github/pedroasgDEV/Maquina_simulada_python/blob/master/Maquina_Simulada_v0_1.ipynb\" target=\"_parent\"><img src=\"https://colab.research.google.com/assets/colab-badge.svg\" alt=\"Open In Colab\"/></a>"
      ]
    },
    {
      "cell_type": "code",
      "execution_count": null,
      "metadata": {
        "id": "H1pUt8Uo8gwI"
      },
      "outputs": [],
      "source": [
        "#Bibliotecas\n",
        "import numpy as np "
      ]
    },
    {
      "cell_type": "code",
      "source": [
        ""
      ],
      "metadata": {
        "id": "vmO1Uq5v-vj1"
      },
      "execution_count": null,
      "outputs": []
    }
  ]
}